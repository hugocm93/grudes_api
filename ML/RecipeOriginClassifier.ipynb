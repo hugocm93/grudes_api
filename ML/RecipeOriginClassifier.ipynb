{
  "cells": [
    {
      "cell_type": "code",
      "execution_count": null,
      "metadata": {
        "id": "ZrQVbUbwgjjf"
      },
      "outputs": [],
      "source": [
        "# configuração para não exibir os warnings\n",
        "import warnings\n",
        "warnings.filterwarnings(\"ignore\")\n",
        "\n",
        "# Imports necessários\n",
        "import pandas as pd\n",
        "import numpy as np\n",
        "import matplotlib.pyplot as plt\n",
        "from sklearn.preprocessing import StandardScaler\n",
        "from sklearn.preprocessing import MinMaxScaler\n",
        "from sklearn.base import TransformerMixin\n",
        "from sklearn.model_selection import train_test_split\n",
        "from sklearn.model_selection import KFold\n",
        "from sklearn.model_selection import StratifiedKFold\n",
        "from sklearn.model_selection import cross_val_score\n",
        "from sklearn.model_selection import GridSearchCV\n",
        "from sklearn.metrics import accuracy_score\n",
        "from sklearn.pipeline import Pipeline\n",
        "from sklearn.tree import DecisionTreeClassifier\n",
        "from sklearn.neighbors import KNeighborsClassifier\n",
        "from sklearn.naive_bayes import GaussianNB\n",
        "from sklearn.svm import SVC\n",
        "from sklearn.feature_extraction.text import TfidfVectorizer"
      ]
    },
    {
      "cell_type": "code",
      "execution_count": null,
      "metadata": {
        "id": "baU8iRLPgrhs"
      },
      "outputs": [],
      "source": [
        "test_size = 0.20 # tamanho do conjunto de teste\n",
        "seed = 7 # semente aleatória\n",
        "np.random.seed(7) # definindo uma semente global\n",
        "\n",
        "recipes = pd.read_json(\"train.json\")\n",
        "\n",
        "X = recipes.values[:,2]\n",
        "X = [' '.join(ingredients) for ingredients in X]\n",
        "\n",
        "Y = recipes.values[:,1]\n",
        "\n",
        "X_train, X_test, Y_train, Y_test = train_test_split(X, Y,\n",
        "    test_size=test_size, shuffle=True, random_state=seed, stratify=Y)\n"
      ]
    },
    {
      "cell_type": "code",
      "execution_count": null,
      "metadata": {
        "colab": {
          "base_uri": "https://localhost:8080/"
        },
        "id": "HEyXgn9Y2hjv",
        "outputId": "921d9bf8-214f-428f-8550-9aac278f7fbe"
      },
      "outputs": [
        {
          "output_type": "stream",
          "name": "stdout",
          "text": [
            "SVM: 0.8035197988686361\n"
          ]
        }
      ],
      "source": [
        "models = []\n",
        "\n",
        "#models.append(('KNN', KNeighborsClassifier()))\n",
        "#models.append(('CART', DecisionTreeClassifier()))\n",
        "#models.append(('NB', GaussianNB()))\n",
        "models.append(('SVM', SVC(C=10)))\n",
        "\n",
        "class DenseTransformer(TransformerMixin):\n",
        "\n",
        "    def fit(self, X, y=None, **fit_params):\n",
        "        return self\n",
        "\n",
        "    def transform(self, X, y=None, **fit_params):\n",
        "        return np.asarray(X.todense())\n",
        "\n",
        "for model in models:\n",
        "    classifier = Pipeline([\n",
        "        ('vect', TfidfVectorizer()),\n",
        "    ])\n",
        "\n",
        "    if model[0] == 'NB':\n",
        "        classifier.steps.append(('to_dense', DenseTransformer()))\n",
        "\n",
        "    classifier.steps.append(model)\n",
        "\n",
        "    classifier.fit(X_train, Y_train)\n",
        "    score = classifier.score(X_test, Y_test)\n",
        "\n",
        "    print('{}: {}'.format(model[0], score))"
      ]
    },
    {
      "cell_type": "code",
      "source": [
        "print(classifier.predict(['olive oil pasta tomato'])[0])\n",
        "print(classifier.predict(['rice beans'])[0])\n",
        "print(classifier.predict(['soy souce rice'])[0])\n",
        "print(classifier.predict(['egg flour sugar'])[0])\n",
        "print(classifier.predict(['cabbage pepper sausage'])[0])\n",
        "print(classifier.predict(['brocollis tofu rice'])[0])"
      ],
      "metadata": {
        "colab": {
          "base_uri": "https://localhost:8080/"
        },
        "id": "OHOEbj2R1yJ0",
        "outputId": "504fbdd8-a779-4d23-ba14-a96edead7e6a"
      },
      "execution_count": null,
      "outputs": [
        {
          "output_type": "stream",
          "name": "stdout",
          "text": [
            "italian\n",
            "mexican\n",
            "japanese\n",
            "french\n",
            "irish\n",
            "chinese\n"
          ]
        }
      ]
    },
    {
      "cell_type": "code",
      "source": [
        "#from sklearn.model_selection import GridSearchCV\n",
        "#\n",
        "#pipeline = Pipeline([\n",
        "#    ('vect', TfidfVectorizer()),\n",
        "#    ('SVM', SVC())\n",
        "#])\n",
        "#\n",
        "#parameters = {\n",
        "#    'SVM__kernel':('linear', 'rbf'),\n",
        "#    'SVM__C':[1, 10],\n",
        "#    }\n",
        "#\n",
        "#search = GridSearchCV(pipeline, parameters)\n",
        "#search.fit(X_train, Y_train)\n",
        "\n",
        "#print(search.best_params_)\n",
        "#print(search.score(X_test, Y_test))\n"
      ],
      "metadata": {
        "id": "4a68GXQK8gv0"
      },
      "execution_count": null,
      "outputs": []
    },
    {
      "cell_type": "code",
      "source": [
        "from joblib import dump, load\n",
        "dump(classifier, 'model.joblib')"
      ],
      "metadata": {
        "colab": {
          "base_uri": "https://localhost:8080/"
        },
        "id": "WfpRxuHYRUMC",
        "outputId": "7d4f6aa1-390a-4ea8-9bb9-87a6a03fe5e4"
      },
      "execution_count": null,
      "outputs": [
        {
          "output_type": "execute_result",
          "data": {
            "text/plain": [
              "['model.joblib']"
            ]
          },
          "metadata": {},
          "execution_count": 10
        }
      ]
    },
    {
      "cell_type": "code",
      "source": [
        "m2 = load('model.joblib')\n",
        "\n",
        "print(m2.predict(['olive oil pasta tomato'])[0])"
      ],
      "metadata": {
        "colab": {
          "base_uri": "https://localhost:8080/"
        },
        "id": "Sj5axzZjED2F",
        "outputId": "c993bd6b-4605-4653-9079-30784f9f7f9c"
      },
      "execution_count": null,
      "outputs": [
        {
          "output_type": "stream",
          "name": "stdout",
          "text": [
            "italian\n"
          ]
        }
      ]
    },
    {
      "cell_type": "code",
      "source": [
        "import joblib\n",
        "import sklearn\n",
        "\n",
        "\n",
        "sklearn.__version__"
      ],
      "metadata": {
        "colab": {
          "base_uri": "https://localhost:8080/",
          "height": 35
        },
        "id": "b8vCsRytFdJp",
        "outputId": "8dc42e43-799a-4946-b916-d707ca679b2c"
      },
      "execution_count": null,
      "outputs": [
        {
          "output_type": "execute_result",
          "data": {
            "text/plain": [
              "'1.2.2'"
            ],
            "application/vnd.google.colaboratory.intrinsic+json": {
              "type": "string"
            }
          },
          "metadata": {},
          "execution_count": 16
        }
      ]
    }
  ],
  "metadata": {
    "colab": {
      "provenance": []
    },
    "kernelspec": {
      "display_name": "Python 3",
      "name": "python3"
    },
    "language_info": {
      "name": "python"
    }
  },
  "nbformat": 4,
  "nbformat_minor": 0
}